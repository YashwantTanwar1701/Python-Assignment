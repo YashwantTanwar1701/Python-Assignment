{
 "cells": [
  {
   "cell_type": "code",
   "execution_count": null,
   "id": "8696a43a",
   "metadata": {},
   "outputs": [],
   "source": [
    "1. What exactly is []?\n",
    "------------------------------------------------------------\n",
    "Ans: [] represents an empty list in Python. It is a data structure that can hold an ordered collection of items. An empty list contains no elements."
   ]
  },
  {
   "cell_type": "code",
   "execution_count": null,
   "id": "6ac816c0",
   "metadata": {},
   "outputs": [],
   "source": [
    "2. In a list of values stored in a variable called spam, how would you assign the value 'hello' as the third value? (Assume [2, 4, 6, 8, 10] are in spam.)\n",
    "Let's pretend the spam includes the list ['a', 'b', 'c', 'd'] for the next three queries.\n",
    "------------------------------------------------------------\n",
    "Ans: \n",
    "spam = [2, 4, 6, 8, 10]\n",
    "spam[2] = 'hello'\n"
   ]
  },
  {
   "cell_type": "code",
   "execution_count": null,
   "id": "b89bafdd",
   "metadata": {},
   "outputs": [],
   "source": [
    "3. What is the value of spam[int(int('3' * 2) / 11)]?\n",
    "------------------------------------------------------------\n",
    "Ans: \n",
    "int('3' * 2) evaluates to 33.\n",
    "33 / 11 evaluates to 3.\n",
    "Therefore, spam[3] refers to the fourth element in the list spam, which is 'd'."
   ]
  },
  {
   "cell_type": "code",
   "execution_count": null,
   "id": "ae5f76f1",
   "metadata": {},
   "outputs": [],
   "source": [
    "4. What is the value of spam[-1]?\n",
    "------------------------------------------------------------\n",
    "Ans: \n",
    "\n",
    "Negative indices in Python list access refer to elements counting from the end of the list. Therefore, spam[-1] refers to the last element in the list spam, which is 'd'."
   ]
  },
  {
   "cell_type": "code",
   "execution_count": null,
   "id": "25aba3a0",
   "metadata": {},
   "outputs": [],
   "source": [
    "5. What is the value of spam[:2]?\n",
    "Let's pretend bacon has the list [3.14, 'cat,' 11, 'cat,' True] for the next three questions.\n",
    "------------------------------------------------------------\n",
    "Ans: This slicing operation extracts elements from the beginning of the list up to, but not including, the third element. So, the value would be ['a', 'b']."
   ]
  },
  {
   "cell_type": "code",
   "execution_count": null,
   "id": "4d96d4dc",
   "metadata": {},
   "outputs": [],
   "source": [
    "6. What is the value of bacon.index('cat')?\n",
    "------------------------------------------------------------\n",
    "Ans: The index() method returns the index of the first occurrence of the specified element in the list. So, in the list bacon, the value of bacon.index('cat') would be 1."
   ]
  },
  {
   "cell_type": "code",
   "execution_count": null,
   "id": "540fdd75",
   "metadata": {},
   "outputs": [],
   "source": [
    "7. How does bacon.append(99) change the look of the list value in bacon?\n",
    "------------------------------------------------------------\n",
    "Ans: The append() method adds the specified element to the end of the list. After calling bacon.append(99), the list bacon would be [3.14, 'cat', 11, 'cat', True, 99]."
   ]
  },
  {
   "cell_type": "code",
   "execution_count": null,
   "id": "91ede0b0",
   "metadata": {},
   "outputs": [],
   "source": [
    "8. How does bacon.remove('cat') change the look of the list in bacon?\n",
    "------------------------------------------------------------\n",
    "Ans: The remove() method removes the first occurrence of the specified element from the list. After calling bacon.remove('cat'), the list bacon would be [3.14, 11, 'cat', True]."
   ]
  },
  {
   "cell_type": "code",
   "execution_count": null,
   "id": "a2792746",
   "metadata": {},
   "outputs": [],
   "source": [
    "9. What are the list concatenation and list replication operators?\n",
    "------------------------------------------------------------\n",
    "Ans: List concatenation operator: + - Concatenates two lists together.\n",
    "List replication operator: * - Replicates a list multiple times."
   ]
  },
  {
   "cell_type": "code",
   "execution_count": null,
   "id": "e8f28750",
   "metadata": {},
   "outputs": [],
   "source": [
    "10. What is difference between the list methods append() and insert()?\n",
    "------------------------------------------------------------\n",
    "Ans: append() adds an element to the end of the list, while insert() inserts an element at a specified index in the list."
   ]
  },
  {
   "cell_type": "code",
   "execution_count": null,
   "id": "ce8bd0d3",
   "metadata": {},
   "outputs": [],
   "source": [
    "11. What are the two methods for removing items from a list?\n",
    "------------------------------------------------------------\n",
    "Ans: remove(): Removes the first occurrence of a specified value from the list.\n",
    "pop(): Removes an element at a specified index from the list and returns it."
   ]
  },
  {
   "cell_type": "code",
   "execution_count": null,
   "id": "7366924a",
   "metadata": {},
   "outputs": [],
   "source": [
    "12. Describe how list values and string values are identical.\n",
    "------------------------------------------------------------\n",
    "Ans: Both lists and strings are ordered collections of items.\n",
    "They can be indexed and sliced using square brackets.\n",
    "They support membership testing using the in operator."
   ]
  },
  {
   "cell_type": "code",
   "execution_count": null,
   "id": "aa93f26e",
   "metadata": {},
   "outputs": [],
   "source": [
    "13. What's the difference between tuples and lists?\n",
    "------------------------------------------------------------\n",
    "Ans: Tuples are immutable, meaning they cannot be changed after creation, while lists are mutable.\n",
    "Lists are defined using square brackets [], while tuples are defined using parentheses ().\n",
    "Tuples are typically used for heterogeneous data, while lists are used for homogeneous data."
   ]
  },
  {
   "cell_type": "code",
   "execution_count": null,
   "id": "3626dedb",
   "metadata": {},
   "outputs": [],
   "source": [
    "14. How do you type a tuple value that only contains the integer 42?\n",
    "------------------------------------------------------------\n",
    "Ans: my_tuple = (42,)\n"
   ]
  },
  {
   "cell_type": "code",
   "execution_count": null,
   "id": "e48d4e98",
   "metadata": {},
   "outputs": [],
   "source": [
    "15. How do you get a list value's tuple form? How do you get a tuple value's list form?\n",
    "------------------------------------------------------------\n",
    "Ans: To convert a list value to a tuple, you can use the tuple() constructor.\n",
    "To convert a tuple value to a list, you can use the list() constructor."
   ]
  },
  {
   "cell_type": "code",
   "execution_count": null,
   "id": "1c81171f",
   "metadata": {},
   "outputs": [],
   "source": [
    "16. Variables that \"contain\" list values are not necessarily lists themselves. Instead, what do they contain?\n",
    "------------------------------------------------------------\n",
    "Ans: Variables containing list values actually contain references or pointers to the memory locations where the list values are stored. They do not directly contain the list data itself."
   ]
  },
  {
   "cell_type": "code",
   "execution_count": null,
   "id": "9a154cc4",
   "metadata": {},
   "outputs": [],
   "source": [
    "17. How do you distinguish between copy.copy() and copy.deepcopy()?\n",
    "------------------------------------------------------------\n",
    "Ans: copy.copy() performs a shallow copy of a list, meaning it creates a new list object but does not recursively copy the nested elements. Changes to nested elements in the copied list will affect the original list.\n",
    "copy.deepcopy() performs a deep copy of a list, meaning it creates a new list object and recursively copies all nested elements. This creates a completely independent copy, and changes to nested elements in the copied list will not affect the original list."
   ]
  }
 ],
 "metadata": {
  "kernelspec": {
   "display_name": "Python 3 (ipykernel)",
   "language": "python",
   "name": "python3"
  },
  "language_info": {
   "codemirror_mode": {
    "name": "ipython",
    "version": 3
   },
   "file_extension": ".py",
   "mimetype": "text/x-python",
   "name": "python",
   "nbconvert_exporter": "python",
   "pygments_lexer": "ipython3",
   "version": "3.11.4"
  }
 },
 "nbformat": 4,
 "nbformat_minor": 5
}
