{
 "cells": [
  {
   "cell_type": "code",
   "execution_count": 10,
   "id": "65148bf0",
   "metadata": {},
   "outputs": [
    {
     "name": "stdout",
     "output_type": "stream",
     "text": [
      "Hello Python\n"
     ]
    }
   ],
   "source": [
    "#1. Write a Python program to print \"Hello Python\"?\n",
    "\n",
    "a = \"Hello Python\"\n",
    "print(a)\n"
   ]
  },
  {
   "cell_type": "code",
   "execution_count": 8,
   "id": "026f7850",
   "metadata": {},
   "outputs": [
    {
     "name": "stdout",
     "output_type": "stream",
     "text": [
      "Operation that you'd like to perform (addition / division): addition\n",
      "Enter your number: 34\n",
      "Enter your number: 34\n",
      "34 + 34 = 68\n"
     ]
    }
   ],
   "source": [
    "#2 Write a Python program to do arithmetical operations addition and division.?\n",
    "\n",
    "operation = input(\"Operation that you'd like to perform (addition / division): \")\n",
    "number1 = int(input(\"Enter your number: \"))\n",
    "number2 = int(input(\"Enter your number: \"))\n",
    "\n",
    "if operation == \"addition\":\n",
    "    print(f\"{number1} + {number2} = {number1 + number2}\")\n",
    "elif operation == \"division\":\n",
    "    print(f\"{number1} / {number2} = {number1 / number2}\")\n",
    "else:\n",
    "    print(\"please select a valid operation and enter valid numbers\")"
   ]
  },
  {
   "cell_type": "code",
   "execution_count": 12,
   "id": "0700d803",
   "metadata": {},
   "outputs": [
    {
     "name": "stdout",
     "output_type": "stream",
     "text": [
      "Enter the height of the triangle: 30\n",
      "Enter the base of the triangle: 12\n",
      "the Area of the triangle is 180.0\n"
     ]
    }
   ],
   "source": [
    "#3 Write a Python program to find the area of a triangle?\n",
    "\n",
    "height = int(input(\"Enter the height of the triangle: \"))\n",
    "base = int(input(\"Enter the base of the triangle: \"))\n",
    "area = ((1/2)*base*height)\n",
    "\n",
    "print(f\"the Area of the triangle is {area}\")"
   ]
  },
  {
   "cell_type": "code",
   "execution_count": 20,
   "id": "852dcc27",
   "metadata": {},
   "outputs": [
    {
     "name": "stdout",
     "output_type": "stream",
     "text": [
      "Enter anything 1\n",
      "Enter anything 11\n",
      "The value of x after swapping: 11\n",
      "The value of y after swapping: 1\n"
     ]
    }
   ],
   "source": [
    "#4 Write a Python program to swap two variables?\n",
    "\n",
    "a = input(\"Enter anything \")\n",
    "b = input(\"Enter anything \")\n",
    "\n",
    "temp = a\n",
    "a = b\n",
    "b = temp\n",
    "\n",
    "print('The value of x after swapping: {}'.format(a))\n",
    "print('The value of y after swapping: {}'.format(b))"
   ]
  },
  {
   "cell_type": "code",
   "execution_count": 24,
   "id": "7088b326",
   "metadata": {},
   "outputs": [
    {
     "name": "stdout",
     "output_type": "stream",
     "text": [
      "2\n"
     ]
    }
   ],
   "source": [
    "#5 Write a Python program to generate a random number?\n",
    "\n",
    "import random\n",
    "print(random.randint(0,9))"
   ]
  }
 ],
 "metadata": {
  "kernelspec": {
   "display_name": "Python 3 (ipykernel)",
   "language": "python",
   "name": "python3"
  },
  "language_info": {
   "codemirror_mode": {
    "name": "ipython",
    "version": 3
   },
   "file_extension": ".py",
   "mimetype": "text/x-python",
   "name": "python",
   "nbconvert_exporter": "python",
   "pygments_lexer": "ipython3",
   "version": "3.9.13"
  }
 },
 "nbformat": 4,
 "nbformat_minor": 5
}
