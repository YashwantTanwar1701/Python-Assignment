{
 "cells": [
  {
   "cell_type": "code",
   "execution_count": 1,
   "id": "b90b1a25",
   "metadata": {},
   "outputs": [
    {
     "name": "stdout",
     "output_type": "stream",
     "text": [
      "The L.C.M. is 216\n"
     ]
    }
   ],
   "source": [
    "#1. Write a Python Program to Find LCM?\n",
    "def compute_lcm(x, y):\n",
    "\n",
    "   # choose the greater number\n",
    "   if x > y:\n",
    "       greater = x\n",
    "   else:\n",
    "       greater = y\n",
    "\n",
    "   while(True):\n",
    "       if((greater % x == 0) and (greater % y == 0)):\n",
    "           lcm = greater\n",
    "           break\n",
    "       greater = greater + 1\n",
    "\n",
    "   return lcm\n",
    "\n",
    "num1 = 54\n",
    "num2 = 24\n",
    "\n",
    "print(f\"The L.C.M. is {compute_lcm(num1, num2)}\")"
   ]
  },
  {
   "cell_type": "code",
   "execution_count": 2,
   "id": "519d8bb2",
   "metadata": {},
   "outputs": [
    {
     "name": "stdout",
     "output_type": "stream",
     "text": [
      "The H.C.F. is 6\n"
     ]
    }
   ],
   "source": [
    "#2. Write a Python Program to Find HCF?\n",
    "def compute_hcf(x, y):\n",
    "\n",
    "# choose the smaller number\n",
    "    if x > y:\n",
    "        smaller = y\n",
    "    else:\n",
    "        smaller = x\n",
    "    for i in range(1, smaller+1):\n",
    "        if((x % i == 0) and (y % i == 0)):\n",
    "            hcf = i \n",
    "    return hcf\n",
    "\n",
    "num1 = 54 \n",
    "num2 = 24\n",
    "\n",
    "print(f\"The H.C.F. is {compute_hcf(num1, num2)}\")"
   ]
  },
  {
   "cell_type": "code",
   "execution_count": 5,
   "id": "07f81d39",
   "metadata": {},
   "outputs": [
    {
     "name": "stdout",
     "output_type": "stream",
     "text": [
      "The decimal value of 33 is:\n",
      "0b100001 in binary.\n",
      "0o41 in octal.\n",
      "0x21 in hexadecimal.\n"
     ]
    }
   ],
   "source": [
    "#3. Write a Python Program to Convert Decimal to Binary, Octal and Hexadecimal?\n",
    "dec = 33\n",
    "\n",
    "print(f\"The decimal value of {dec} is:\")\n",
    "print(f\"{bin(dec)} in binary.\")\n",
    "print(f\"{oct(dec)} in octal.\")\n",
    "print(f\"{hex(dec)} in hexadecimal.\")"
   ]
  },
  {
   "cell_type": "code",
   "execution_count": 8,
   "id": "a3a049d5",
   "metadata": {},
   "outputs": [
    {
     "name": "stdout",
     "output_type": "stream",
     "text": [
      "The ASCII value of 'J' is 74\n"
     ]
    }
   ],
   "source": [
    "#4. Write a Python Program To Find ASCII value of a character?\n",
    "\n",
    "c = 'J'\n",
    "print(f\"The ASCII value of '{c}' is {ord(c)}\")"
   ]
  },
  {
   "cell_type": "code",
   "execution_count": 2,
   "id": "03547bf5",
   "metadata": {},
   "outputs": [
    {
     "name": "stdout",
     "output_type": "stream",
     "text": [
      "What operation you would like to perform\n",
      "1. Addition\n",
      "2. Subtraction\n",
      "3. Division\n",
      "4. Multiplication\n",
      "Subtraction\n",
      "Enter a number: 333\n",
      "Enter a number: 33\n",
      "Substraction of 333 - 33 is 300\n"
     ]
    }
   ],
   "source": [
    "#5. Write a Python Program to Make a Simple Calculator with 4 basic mathematical operations?\n",
    "\n",
    "\n",
    "operation = input(\"\"\"What operation you would like to perform\n",
    "1. Addition\n",
    "2. Subtraction\n",
    "3. Division\n",
    "4. Multiplication\n",
    "\"\"\").capitalize()\n",
    "\n",
    "a = int(input(\"Enter a number: \"))\n",
    "b = int(input(\"Enter a number: \"))\n",
    "\n",
    "\n",
    "def addition(x,y):\n",
    "    return x+y\n",
    "def subtraction(x,y):\n",
    "    return x-y\n",
    "def multiplication(x,y):\n",
    "    return x*y\n",
    "def division(x,y):\n",
    "    return x/y\n",
    "\n",
    "if operation == \"Addition\":\n",
    "    print(f\"Addition of {a} + {b} is {addition(a,b)}\")\n",
    "\n",
    "elif operation == \"Subtraction\": \n",
    "    print(f\"Substraction of {a} - {b} is {subtraction(a,b)}\")\n",
    "\n",
    "elif operation == \"Multiplication\":\n",
    "    print(f\"Multiplication of {a} x {b} is {multiplication(a,b)}\")\n",
    "\n",
    "elif operation == \"Division\":\n",
    "    print(f\"Division of {a} / {b} is {division(a,b)}\")\n",
    "\n",
    "else: \n",
    "    print(\"invalid input!\")"
   ]
  }
 ],
 "metadata": {
  "kernelspec": {
   "display_name": "Python 3 (ipykernel)",
   "language": "python",
   "name": "python3"
  },
  "language_info": {
   "codemirror_mode": {
    "name": "ipython",
    "version": 3
   },
   "file_extension": ".py",
   "mimetype": "text/x-python",
   "name": "python",
   "nbconvert_exporter": "python",
   "pygments_lexer": "ipython3",
   "version": "3.9.13"
  }
 },
 "nbformat": 4,
 "nbformat_minor": 5
}
