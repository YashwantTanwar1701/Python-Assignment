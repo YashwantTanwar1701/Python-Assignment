{
 "cells": [
  {
   "cell_type": "code",
   "execution_count": null,
   "id": "79a1d4c0",
   "metadata": {},
   "outputs": [],
   "source": [
    "1. How do you distinguish between shutil.copy() and shutil.copytree()?\n",
    "------------------------------------------------------------------------\n",
    "Ans: \n",
    "shutil.copy(src, dst): Copies a single file from src to dst. If dst already exists, it will be overwritten.\n",
    "shutil.copytree(src, dst): Recursively copies an entire directory tree from src to dst. If dst already exists, it will raise an error."
   ]
  },
  {
   "cell_type": "code",
   "execution_count": null,
   "id": "e0753389",
   "metadata": {},
   "outputs": [],
   "source": [
    "2. What function is used to rename files??\n",
    "------------------------------------------------------------------------\n",
    "Ans: The os.rename() function is used to rename files. It takes two arguments: the current name of the file and the new name."
   ]
  },
  {
   "cell_type": "code",
   "execution_count": null,
   "id": "33cb0e40",
   "metadata": {},
   "outputs": [],
   "source": [
    "3. What is the difference between the delete functions in the send2trash and shutil modules?\n",
    "------------------------------------------------------------------------\n",
    "Ans: send2trash: The send2trash module sends files to the system trash or recycle bin, allowing for safe deletion. It is recoverable until the trash is emptied.\n",
    "shutil: The shutil module's os.remove() function deletes files permanently from the file system without moving them to the trash or recycle bin."
   ]
  },
  {
   "cell_type": "code",
   "execution_count": null,
   "id": "3d3e0cb3",
   "metadata": {},
   "outputs": [],
   "source": [
    "4.ZipFile objects have a close() method just like File objects’ close() method. What ZipFile method is equivalent to File objects’ open() method?\n",
    "------------------------------------------------------------------------\n",
    "Ans: The ZipFile() constructor in the zipfile module is equivalent to File objects' open() method. It is used to create a ZipFile object, which represents a ZIP archive."
   ]
  },
  {
   "cell_type": "code",
   "execution_count": null,
   "id": "7d6f10f4",
   "metadata": {},
   "outputs": [],
   "source": [
    "5. Create a program that searches a folder tree for files with a certain file extension (such as .pdf or .jpg). Copy these files from whatever location they are in to a new folder.\n",
    "------------------------------------------------------------------------\n",
    "Ans: \n",
    "    import os\n",
    "import shutil\n",
    "\n",
    "def copy_files_with_extension(source_dir, destination_dir, extension):\n",
    "\n",
    "    if not os.path.exists(destination_dir):\n",
    "        os.makedirs(destination_dir)\n",
    "\n",
    "    for foldername, subfolders, filenames in os.walk(source_dir):\n",
    "        for filename in filenames:\n",
    "            if filename.endswith(extension):\n",
    "                source_path = os.path.join(foldername, filename)\n",
    "                destination_path = os.path.join(destination_dir, filename)\n",
    "                shutil.copy(source_path, destination_path)\n",
    "\n",
    "\n",
    "source_folder = \"/path/to/source\"\n",
    "destination_folder = \"/path/to/destination\"\n",
    "file_extension = \".pdf\"\n",
    "copy_files_with_extension(source_folder, destination_folder, file_extension)\n"
   ]
  }
 ],
 "metadata": {
  "kernelspec": {
   "display_name": "Python 3 (ipykernel)",
   "language": "python",
   "name": "python3"
  },
  "language_info": {
   "codemirror_mode": {
    "name": "ipython",
    "version": 3
   },
   "file_extension": ".py",
   "mimetype": "text/x-python",
   "name": "python",
   "nbconvert_exporter": "python",
   "pygments_lexer": "ipython3",
   "version": "3.11.4"
  }
 },
 "nbformat": 4,
 "nbformat_minor": 5
}
