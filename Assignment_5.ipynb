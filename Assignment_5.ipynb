{
 "cells": [
  {
   "cell_type": "code",
   "execution_count": null,
   "id": "5adb88ad",
   "metadata": {},
   "outputs": [],
   "source": [
    "1. What does an empty dictionary's code look like?\n",
    "----------------------------------------------------\n",
    "Ans: Empty dictionary's code: An empty dictionary is represented by {}."
   ]
  },
  {
   "cell_type": "code",
   "execution_count": null,
   "id": "d526acdb",
   "metadata": {},
   "outputs": [],
   "source": [
    "2. What is the value of a dictionary value with the key 'foo' and the value 42?\n",
    "----------------------------------------------------\n",
    "Ans: The value of the dictionary with the key 'foo' and the value 42 would be {'foo': 42}."
   ]
  },
  {
   "cell_type": "code",
   "execution_count": null,
   "id": "be3b9ea1",
   "metadata": {},
   "outputs": [],
   "source": [
    "3. What is the most significant distinction between a dictionary and a list?\n",
    "----------------------------------------------------\n",
    "Ans: The most significant distinction between a dictionary and a list is how they store and access data. A dictionary stores data as key-value pairs, allowing you to access values by their corresponding keys, while a list stores data as a sequence of elements, allowing you to access elements by their indices."
   ]
  },
  {
   "cell_type": "code",
   "execution_count": null,
   "id": "03c65c71",
   "metadata": {},
   "outputs": [],
   "source": [
    "4. What happens if you try to access spam['foo'] if spam is {'bar': 100}?\n",
    "----------------------------------------------------\n",
    "Ans:  If you try to access spam['foo'] when spam is {'bar': 100}, you'll encounter a KeyError because the key 'foo' does not exist in the dictionary spam."
   ]
  },
  {
   "cell_type": "code",
   "execution_count": null,
   "id": "2ea6df02",
   "metadata": {},
   "outputs": [],
   "source": [
    "5. If a dictionary is stored in spam, what is the difference between the expressions 'cat' in spam and 'cat' in spam.keys()?\n",
    "----------------------------------------------------\n",
    "Ans: The expression 'cat' in spam checks if the key 'cat' exists in the dictionary spam, while the expression 'cat' in spam.keys() explicitly checks for the presence of the key 'cat' in the keys of the dictionary spam. The result is the same in both cases, but the latter is more explicit."
   ]
  },
  {
   "cell_type": "code",
   "execution_count": null,
   "id": "0f2822ed",
   "metadata": {},
   "outputs": [],
   "source": [
    "6. If a dictionary is stored in spam, what is the difference between the expressions 'cat' in spam and 'cat' in spam.values()?\n",
    "----------------------------------------------------\n",
    "Ans: The expression 'cat' in spam checks if the key 'cat' exists in the dictionary spam, while the expression 'cat' in spam.values() checks if the value 'cat' exists in any of the values of the dictionary spam."
   ]
  },
  {
   "cell_type": "code",
   "execution_count": null,
   "id": "c2cb0ec4",
   "metadata": {},
   "outputs": [],
   "source": [
    "7. What is a shortcut for the following code?\n",
    "if 'color' not in spam:\n",
    "spam['color'] = 'black'\n",
    "----------------------------------------------------\n",
    "Ans: \n",
    "spam.setdefault('color', 'black')\n"
   ]
  },
  {
   "cell_type": "code",
   "execution_count": null,
   "id": "324ac36b",
   "metadata": {},
   "outputs": [],
   "source": [
    "8. How do you \"pretty print\" dictionary values using which module and function?\n",
    "----------------------------------------------------\n",
    "Ans: You can \"pretty print\" dictionary values using the pprint module and its pprint() function.\n",
    "import pprint\n",
    "my_dict = {'key1': 'value1', 'key2': 'value2'}\n",
    "pprint.pprint(my_dict)\n"
   ]
  }
 ],
 "metadata": {
  "kernelspec": {
   "display_name": "Python 3 (ipykernel)",
   "language": "python",
   "name": "python3"
  },
  "language_info": {
   "codemirror_mode": {
    "name": "ipython",
    "version": 3
   },
   "file_extension": ".py",
   "mimetype": "text/x-python",
   "name": "python",
   "nbconvert_exporter": "python",
   "pygments_lexer": "ipython3",
   "version": "3.11.4"
  }
 },
 "nbformat": 4,
 "nbformat_minor": 5
}
