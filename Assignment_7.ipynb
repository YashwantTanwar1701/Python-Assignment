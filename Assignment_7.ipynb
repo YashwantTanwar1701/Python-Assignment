{
 "cells": [
  {
   "cell_type": "code",
   "execution_count": null,
   "id": "7091e257",
   "metadata": {},
   "outputs": [],
   "source": [
    "1. What is the name of the feature responsible for generating Regex objects?\n",
    "---------------------------------------------------------------------------------\n",
    "Ans: The re.compile() function is responsible for generating Regex objects."
   ]
  },
  {
   "cell_type": "code",
   "execution_count": null,
   "id": "f758b875",
   "metadata": {},
   "outputs": [],
   "source": [
    "2. Why do raw strings often appear in Regex objects?\n",
    "---------------------------------------------------------------------------------\n",
    "Ans: Raw strings (r'') are often used in Regex objects to avoid unwanted interpretation of backslashes. Since backslashes are commonly used in regular expressions to escape special characters, using raw strings helps to ensure that backslashes are treated literally."
   ]
  },
  {
   "cell_type": "code",
   "execution_count": null,
   "id": "ede6d0be",
   "metadata": {},
   "outputs": [],
   "source": [
    "3. What is the return value of the search() method?\n",
    "---------------------------------------------------------------------------------\n",
    "Ans:  The search() method returns a Match object if the pattern is found in the string, otherwise it returns None."
   ]
  },
  {
   "cell_type": "code",
   "execution_count": null,
   "id": "6a70106e",
   "metadata": {},
   "outputs": [],
   "source": [
    "4. From a Match item, how do you get the actual strings that match the pattern?\n",
    "---------------------------------------------------------------------------------\n",
    "Ans: You can use the group() method of the Match object to get the actual strings that match the pattern."
   ]
  },
  {
   "cell_type": "code",
   "execution_count": null,
   "id": "51826724",
   "metadata": {},
   "outputs": [],
   "source": [
    "5. In the regex which created from the r'(\\d\\d\\d)-(\\d\\d\\d-\\d\\d\\d\\d)', what does group zero cover? Group 2? Group 1?\n",
    "---------------------------------------------------------------------------------\n",
    "Ans: Group 0 covers the entire matched string.\n",
    "Group 1 covers the first set of three digits.\n",
    "Group 2 covers the second set of three digits followed by a hyphen and four digits."
   ]
  },
  {
   "cell_type": "code",
   "execution_count": null,
   "id": "b7b35823",
   "metadata": {},
   "outputs": [],
   "source": [
    "6. In standard expression syntax, parentheses and intervals have distinct meanings. How can you tell a regex that you want it to fit real parentheses and periods?\n",
    "---------------------------------------------------------------------------------\n",
    "Ans: To match real parentheses and periods in a regular expression, you need to escape them using a backslash (\\( for ( and \\. for .)."
   ]
  },
  {
   "cell_type": "code",
   "execution_count": null,
   "id": "62a33a5e",
   "metadata": {},
   "outputs": [],
   "source": [
    "7. The findall() method returns a string list or a list of string tuples. What causes it to return one of the two options?\n",
    "---------------------------------------------------------------------------------\n",
    "Ans: The findall() method returns a list of strings if there are no groups in the regular expression pattern, and it returns a list of tuples of strings if there are groups in the pattern."
   ]
  },
  {
   "cell_type": "code",
   "execution_count": null,
   "id": "c5ea55f2",
   "metadata": {},
   "outputs": [],
   "source": [
    "8. In standard expressions, what does the | character mean?\n",
    "---------------------------------------------------------------------------------\n",
    "Ans:  In regular expressions, the | character represents the alternation operator, which matches either the expression before or after the |."
   ]
  },
  {
   "cell_type": "code",
   "execution_count": null,
   "id": "b2cecabf",
   "metadata": {},
   "outputs": [],
   "source": [
    "9. In regular expressions, what does the character stand for?\n",
    "---------------------------------------------------------------------------------\n",
    "Ans: In regular expressions, the . character matches any single character except newline characters. If re.DOTALL is passed as the second argument in re.compile(), the . character will also match newline characters."
   ]
  },
  {
   "cell_type": "code",
   "execution_count": null,
   "id": "580a994a",
   "metadata": {},
   "outputs": [],
   "source": [
    "10.In regular expressions, what is the difference between the + and * characters?\n",
    "---------------------------------------------------------------------------------\n",
    "Ans: +: Matches one or more occurrences of the preceding character or group.\n",
    "*: Matches zero or more occurrences of the preceding character or group."
   ]
  },
  {
   "cell_type": "code",
   "execution_count": null,
   "id": "32e5e55f",
   "metadata": {},
   "outputs": [],
   "source": [
    "11. What is the difference between {4} and {4,5} in regular expression?\n",
    "---------------------------------------------------------------------------------\n",
    "Ans: {4}: Matches exactly four occurrences of the preceding character or group.\n",
    "{4,5}: Matches between four and five occurrences of the preceding character or group, inclusive."
   ]
  },
  {
   "cell_type": "code",
   "execution_count": null,
   "id": "a072b928",
   "metadata": {},
   "outputs": [],
   "source": [
    "12. What do you mean by the \\d, \\w, and \\s shorthand character classes signify in regular expressions?\n",
    "---------------------------------------------------------------------------------\n",
    "Ans: \\d: Matches any digit (equivalent to [0-9]).\n",
    "\\w: Matches any alphanumeric character (equivalent to [a-zA-Z0-9_]).\n",
    "\\s: Matches any whitespace character (including space, tab, newline)."
   ]
  },
  {
   "cell_type": "code",
   "execution_count": null,
   "id": "14ec786f",
   "metadata": {},
   "outputs": [],
   "source": [
    "13. What do means by \\D, \\W, and \\S shorthand character classes signify in regular expressions?\n",
    "---------------------------------------------------------------------------------\n",
    "Ans: \\D: Matches any non-digit character (equivalent to [^0-9]).\n",
    "\\W: Matches any non-alphanumeric character (equivalent to [^a-zA-Z0-9_]).\n",
    "\\S: Matches any non-whitespace character."
   ]
  },
  {
   "cell_type": "code",
   "execution_count": null,
   "id": "293d2b49",
   "metadata": {},
   "outputs": [],
   "source": [
    "14. What is the difference between .*? and .*?\n",
    "---------------------------------------------------------------------------------\n",
    "Ans: .*?: Matches any character (except newline) zero or more times, but as few times as possible (non-greedy).\n",
    ".*: Matches any character (except newline) zero or more times, as many times as possible (greedy)."
   ]
  },
  {
   "cell_type": "code",
   "execution_count": null,
   "id": "f834d75a",
   "metadata": {},
   "outputs": [],
   "source": [
    "15. What is the syntax for matching both numbers and lowercase letters with a character class?\n",
    "---------------------------------------------------------------------------------\n",
    "Ans: The syntax for matching both numbers and lowercase letters with a character class is [0-9a-z]."
   ]
  },
  {
   "cell_type": "code",
   "execution_count": null,
   "id": "9ac81783",
   "metadata": {},
   "outputs": [],
   "source": [
    "16. What is the procedure for making a normal expression in regax case insensitive?\n",
    "---------------------------------------------------------------------------------\n",
    "Ans: You can make a regular expression case insensitive by passing re.IGNORECASE or re.I as the second argument to re.compile()."
   ]
  },
  {
   "cell_type": "code",
   "execution_count": null,
   "id": "1ccf067c",
   "metadata": {},
   "outputs": [],
   "source": [
    "17. What does the . character normally match? What does it match if re.DOTALL is passed as 2nd argument in re.compile()?\n",
    "---------------------------------------------------------------------------------\n",
    "Ans: Normally, the . character matches any single character except newline characters.\n",
    "If re.DOTALL is passed as the second argument in re.compile(), the . character will also match newline characters."
   ]
  },
  {
   "cell_type": "code",
   "execution_count": null,
   "id": "00a68dd2",
   "metadata": {},
   "outputs": [],
   "source": [
    "18. If numReg = re.compile(r'\\d+'), what will numRegex.sub('X', '11 drummers, 10 pipers, five rings, 4 hen') return?\n",
    "---------------------------------------------------------------------------------\n",
    "Ans: The numRegex.sub('X', '11 drummers, 10 pipers, five rings, 4 hen') will replace all sequences of digits with 'X', resulting in 'X drummers, X pipers, five rings, X hen'."
   ]
  },
  {
   "cell_type": "code",
   "execution_count": null,
   "id": "26652ed5",
   "metadata": {},
   "outputs": [],
   "source": [
    "19. What does passing re.VERBOSE as the 2nd argument to re.compile() allow to do?\n",
    "---------------------------------------------------------------------------------\n",
    "Ans: Passing re.VERBOSE as the second argument to re.compile() allows you to write regular expressions that are easier to read and understand by ignoring whitespace and comments within the pattern."
   ]
  },
  {
   "cell_type": "code",
   "execution_count": null,
   "id": "4da45355",
   "metadata": {},
   "outputs": [],
   "source": [
    "20. How would you write a regex that match a number with comma for every three digits? It must match the given following:\n",
    "'42'\n",
    "'1,234'\n",
    "'6,368,745'\n",
    "but not the following:\n",
    "'12,34,567' (which has only two digits between the commas)\n",
    "'1234' (which lacks commas)\n",
    "---------------------------------------------------------------------------------\n",
    "Ans: The regex pattern to match a number with a comma for every three digits is r'^\\d{1,3}(,\\d{3})*$'.\n"
   ]
  },
  {
   "cell_type": "code",
   "execution_count": null,
   "id": "80822d1b",
   "metadata": {},
   "outputs": [],
   "source": [
    "21. How would you write a regex that matches the full name of someone whose last name is Watanabe? You can assume that the first name that comes before it will always be one word that begins with a capital letter. The regex must match the following:\n",
    "'Haruto Watanabe'\n",
    "'Alice Watanabe'\n",
    "'RoboCop Watanabe'\n",
    "but not the following:\n",
    "'haruto Watanabe' (where the first name is not capitalized)\n",
    "'Mr. Watanabe' (where the preceding word has a nonletter character)\n",
    "'Watanabe' (which has no first name)\n",
    "'Haruto watanabe' (where Watanabe is not capitalized)\n",
    "---------------------------------------------------------------------------------\n",
    "Ans: The regex to match the full name of someone whose last name is Watanabe is r'[A-Z][a-z]*\\sWatanabe'.\n"
   ]
  },
  {
   "cell_type": "code",
   "execution_count": null,
   "id": "26aceebc",
   "metadata": {},
   "outputs": [],
   "source": [
    "22. How would you write a regex that matches a sentence where the first word is either Alice, Bob, or Carol; the second word is either eats, pets, or throws; the third word is apples, cats, or baseballs; and the sentence ends with a period? This regex should be case-insensitive. It must match the following:\n",
    "'Alice eats apples.'\n",
    "'Bob pets cats.'\n",
    "'Carol throws baseballs.'\n",
    "'Alice throws Apples.'\n",
    "'BOB EATS CATS.'\n",
    "but not the following:\n",
    "'RoboCop eats apples.'\n",
    "'ALICE THROWS FOOTBALLS.'\n",
    "'Carol eats 7 cats.'\n",
    "---------------------------------------------------------------------------------\n",
    "Ans: The regex to match a sentence with specific patterns is r'(Alice|Bob|Carol)\\s(eats|pets|throws)\\s(apples|cats|baseballs)\\.'.\n"
   ]
  }
 ],
 "metadata": {
  "kernelspec": {
   "display_name": "Python 3 (ipykernel)",
   "language": "python",
   "name": "python3"
  },
  "language_info": {
   "codemirror_mode": {
    "name": "ipython",
    "version": 3
   },
   "file_extension": ".py",
   "mimetype": "text/x-python",
   "name": "python",
   "nbconvert_exporter": "python",
   "pygments_lexer": "ipython3",
   "version": "3.11.4"
  }
 },
 "nbformat": 4,
 "nbformat_minor": 5
}
