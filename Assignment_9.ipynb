{
 "cells": [
  {
   "cell_type": "code",
   "execution_count": null,
   "id": "40d0d308",
   "metadata": {},
   "outputs": [],
   "source": [
    "1. To what does a relative path refer?\n",
    "----------------------------------------------------------------------\n",
    "Ans: A relative path refers to the location of a file or directory relative to the current working directory."
   ]
  },
  {
   "cell_type": "code",
   "execution_count": null,
   "id": "934f96e5",
   "metadata": {},
   "outputs": [],
   "source": [
    "2. What does an absolute path start with your operating system?\n",
    "----------------------------------------------------------------------\n",
    "Ans: An absolute path starts with the root directory of the operating system, such as / in Unix-like systems or C:\\ in Windows."
   ]
  },
  {
   "cell_type": "code",
   "execution_count": null,
   "id": "635a1482",
   "metadata": {},
   "outputs": [],
   "source": [
    "3. What do the functions os.getcwd() and os.chdir() do?\n",
    "----------------------------------------------------------------------\n",
    "Ans: \n",
    "os.getcwd(): Returns the current working directory as a string.\n",
    "os.chdir(): Changes the current working directory to the specified path."
   ]
  },
  {
   "cell_type": "code",
   "execution_count": null,
   "id": "bb253655",
   "metadata": {},
   "outputs": [],
   "source": [
    "4. What are the . and .. folders?\n",
    "----------------------------------------------------------------------\n",
    "Ans: '.': Represents the current directory.\n",
    "\"..\": Represents the parent directory (one level up from the current directory).\n"
   ]
  },
  {
   "cell_type": "code",
   "execution_count": null,
   "id": "3d98129d",
   "metadata": {},
   "outputs": [],
   "source": [
    " 5. In C:\\bacon\\eggs\\spam.txt, which part is the dir name, and which part is the base name?\n",
    "----------------------------------------------------------------------\n",
    "Ans:Directory name: C:\\bacon\\eggs\n",
    "Base name: spam.txt"
   ]
  },
  {
   "cell_type": "code",
   "execution_count": null,
   "id": "43268a5d",
   "metadata": {},
   "outputs": [],
   "source": [
    "6. What are the three “mode” arguments that can be passed to the open() function?\n",
    "----------------------------------------------------------------------\n",
    "Ans: 'r': Read mode. Opens the file for reading.\n",
    "'w': Write mode. Opens the file for writing, truncating the file first.\n",
    "'a': Append mode. Opens the file for writing, appending to the end of the file if it exists."
   ]
  },
  {
   "cell_type": "code",
   "execution_count": null,
   "id": "6e4180e7",
   "metadata": {},
   "outputs": [],
   "source": [
    "7. What happens if an existing file is opened in write mode?\n",
    "----------------------------------------------------------------------\n",
    "Ans: If an existing file is opened in write mode ('w'), it will truncate the file to zero length before writing."
   ]
  },
  {
   "cell_type": "code",
   "execution_count": null,
   "id": "d8249257",
   "metadata": {},
   "outputs": [],
   "source": [
    "8. How do you tell the difference between read() and readlines()?\n",
    "----------------------------------------------------------------------\n",
    "Ans: \"read()\": Reads the entire contents of the file as a single string.\n",
    "\"readlines()\": Reads all lines of the file into a list, where each element of the list corresponds to a line in the file."
   ]
  },
  {
   "cell_type": "code",
   "execution_count": null,
   "id": "2f2f2107",
   "metadata": {},
   "outputs": [],
   "source": [
    "9. What data structure does a shelf value resemble?\n",
    "----------------------------------------------------------------------\n",
    "Ans: A shelf value resembles a dictionary, as it stores key-value pairs. However, it behaves like a persistent dictionary, allowing data to be stored on disk between program executions."
   ]
  }
 ],
 "metadata": {
  "kernelspec": {
   "display_name": "Python 3 (ipykernel)",
   "language": "python",
   "name": "python3"
  },
  "language_info": {
   "codemirror_mode": {
    "name": "ipython",
    "version": 3
   },
   "file_extension": ".py",
   "mimetype": "text/x-python",
   "name": "python",
   "nbconvert_exporter": "python",
   "pygments_lexer": "ipython3",
   "version": "3.11.4"
  }
 },
 "nbformat": 4,
 "nbformat_minor": 5
}
