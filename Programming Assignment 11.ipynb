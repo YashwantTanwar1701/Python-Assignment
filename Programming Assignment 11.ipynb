{
 "cells": [
  {
   "cell_type": "code",
   "execution_count": 6,
   "id": "9a757396",
   "metadata": {},
   "outputs": [
    {
     "name": "stdout",
     "output_type": "stream",
     "text": [
      "Python\n",
      "program\n",
      "greater\n",
      "length\n"
     ]
    }
   ],
   "source": [
    "#1. Write a Python program to find words which are greater than given length k?\n",
    "\n",
    "def word_k(k, s):    \n",
    "    word = s.split(\" \")\n",
    "    for x in word:\n",
    "        if len(x)>k:\n",
    "          print(x)\n",
    "k = 5\n",
    "s =\"Write a Python program to find words which are greater than given length k\"\n",
    "word_k(k, s)"
   ]
  },
  {
   "cell_type": "code",
   "execution_count": 9,
   "id": "b7798c55",
   "metadata": {},
   "outputs": [
    {
     "name": "stdout",
     "output_type": "stream",
     "text": [
      "geeksORgeeks\n"
     ]
    }
   ],
   "source": [
    "#2. Write a Python program for removing i-th character from a string?\n",
    "\n",
    "def remove(string, i):\n",
    "    a = string[: i]\n",
    "    b = string[i + 1:]\n",
    "    return a + b\n",
    " \n",
    "string = \"geeksFORgeeks\"\n",
    "i = 5\n",
    "\n",
    "print(remove(string, i))"
   ]
  },
  {
   "cell_type": "code",
   "execution_count": 23,
   "id": "40ff2eb0",
   "metadata": {},
   "outputs": [
    {
     "name": "stdout",
     "output_type": "stream",
     "text": [
      "Write a Python program to split and join a string?\n",
      "-\n",
      "Test after split: ['Write', 'a', 'Python', 'program', 'to', 'split', 'and', 'join', 'a', 'string?']\n",
      "Test after join:Write-a-Python-program-to-split-and-join-a-string?\n"
     ]
    }
   ],
   "source": [
    "#3. Write a Python program to split and join a string?\n",
    "\n",
    "def split_join(a,delemiter):\n",
    "\n",
    "    s = a.split(\" \")\n",
    "    \n",
    "    j = delemiter.join(split)\n",
    "    print(f\"Test after split: {s}\")\n",
    "    print(f\"Test after join:{j}\")\n",
    "\n",
    "\n",
    "string = input()\n",
    "delemeter = input()\n",
    "split_join(string, delemeter)"
   ]
  },
  {
   "cell_type": "code",
   "execution_count": 24,
   "id": "69c2342f",
   "metadata": {},
   "outputs": [
    {
     "name": "stdout",
     "output_type": "stream",
     "text": [
      "Yes\n"
     ]
    }
   ],
   "source": [
    "#4. Write a Python to check if a given string is binary string or not?\n",
    "def check(string):\n",
    " \n",
    "\n",
    "    p = set(string)\n",
    "\n",
    "    s = {'0', '1'}\n",
    " \n",
    " \n",
    "    if s == p or p == {'0'} or p == {'1'}:\n",
    "        print(\"Yes\")\n",
    "    else:\n",
    "        print(\"No\")\n",
    " \n",
    " \n",
    "\n",
    "\n",
    " \n",
    "string = \"101010000111\"\n",
    " \n",
    "    \n",
    "check(string)"
   ]
  },
  {
   "cell_type": "code",
   "execution_count": 26,
   "id": "cdabcfda",
   "metadata": {},
   "outputs": [
    {
     "name": "stdout",
     "output_type": "stream",
     "text": [
      "['Learning', 'from']\n"
     ]
    }
   ],
   "source": [
    "#5. Write a Python program to find uncommon words from two Strings?\n",
    "\n",
    "def UncommonWords(A, B):\n",
    " \n",
    "    count = {}\n",
    "\n",
    "    for word in A.split():\n",
    "        count[word] = count.get(word, 0) + 1\n",
    "\n",
    "    for word in B.split():\n",
    "        count[word] = count.get(word, 0) + 1\n",
    " \n",
    "    return [word for word in count if count[word] == 1]\n",
    " \n",
    " \n",
    "A = \"Geeks for Geeks\"\n",
    "B = \"Learning from Geeks for Geeks\"\n",
    " \n",
    "print(UncommonWords(A, B))"
   ]
  },
  {
   "cell_type": "code",
   "execution_count": 27,
   "id": "bbfedfdc",
   "metadata": {},
   "outputs": [
    {
     "name": "stdout",
     "output_type": "stream",
     "text": [
      "All the duplicate characters in the string are: \n",
      "e  -  2\n",
      "l  -  3\n",
      "o  -  4\n",
      "m  -  2\n",
      "t  -  3\n",
      "o  -  3\n",
      "t  -  2\n",
      "o  -  2\n",
      "i  -  3\n",
      "a  -  2\n",
      "l  -  2\n",
      "i  -  2\n"
     ]
    }
   ],
   "source": [
    "#6. Write a Python to find all duplicate characters in string?\n",
    "\n",
    "string = \"Welcome to TutorialsPoint family\";\n",
    "print(\"All the duplicate characters in the string are: \"); \n",
    "\n",
    "for s in range(0, len(string)): \n",
    "   count = 1; \n",
    "   for t in range(s+1, len(string)):\n",
    "      if(string[s] == string[t] and string[s] != ' '): \n",
    "         count = count + 1; \n",
    "\n",
    "   string = string[:t] + '0' + string[t+1:]; \n",
    "\n",
    "   if(count > 1 and string[s] != '0'): \n",
    "      print(string[s],\" - \",count);"
   ]
  },
  {
   "cell_type": "code",
   "execution_count": 28,
   "id": "dd34283e",
   "metadata": {},
   "outputs": [
    {
     "name": "stdout",
     "output_type": "stream",
     "text": [
      "The string does not contain special characters.\n",
      "The string contains special characters.\n"
     ]
    }
   ],
   "source": [
    "#7. Write a Python Program to check if a string contains any special character?\n",
    "def has_special_char(s):\n",
    "  for c in s:\n",
    "    if not (c.isalpha() or c.isdigit() or c == ' '):\n",
    "      return True\n",
    "  return False\n",
    " \n",
    "\n",
    "s = \"Hello World\"\n",
    "if has_special_char(s):\n",
    "  print(\"The string contains special characters.\")\n",
    "else:\n",
    "  print(\"The string does not contain special characters.\")\n",
    " \n",
    "s = \"Hello@World\"\n",
    "if has_special_char(s):\n",
    "  print(\"The string contains special characters.\")\n",
    "else:\n",
    "  print(\"The string does not contain special characters.\")"
   ]
  },
  {
   "cell_type": "code",
   "execution_count": null,
   "id": "956eec2f",
   "metadata": {},
   "outputs": [],
   "source": []
  }
 ],
 "metadata": {
  "kernelspec": {
   "display_name": "Python 3 (ipykernel)",
   "language": "python",
   "name": "python3"
  },
  "language_info": {
   "codemirror_mode": {
    "name": "ipython",
    "version": 3
   },
   "file_extension": ".py",
   "mimetype": "text/x-python",
   "name": "python",
   "nbconvert_exporter": "python",
   "pygments_lexer": "ipython3",
   "version": "3.9.13"
  }
 },
 "nbformat": 4,
 "nbformat_minor": 5
}
