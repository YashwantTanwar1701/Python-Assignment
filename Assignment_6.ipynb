{
 "cells": [
  {
   "cell_type": "code",
   "execution_count": null,
   "id": "9f96176c",
   "metadata": {},
   "outputs": [],
   "source": [
    "1. What are escape characters, and how do you use them?\n",
    "-------------------------------------------------------\n",
    "Ans: Escape characters are special characters in strings that are used to represent characters that are difficult or impossible to type directly into code. They are preceded by a backslash (\\). For example, \\n represents a newline character."
   ]
  },
  {
   "cell_type": "code",
   "execution_count": null,
   "id": "38c2f10b",
   "metadata": {},
   "outputs": [],
   "source": [
    "2. What do the escape characters n and t stand for?\n",
    "-------------------------------------------------------\n",
    "Ans: \\n: Represents a newline character, which causes the text following it to start on a new line.\n",
    "    \\t: Represents a tab character, which causes the text following it to be indented "
   ]
  },
  {
   "cell_type": "code",
   "execution_count": null,
   "id": "97389c8d",
   "metadata": {},
   "outputs": [],
   "source": [
    "3. What is the way to include backslash characters in a string?\n",
    "-------------------------------------------------------\n",
    "Ans: To include a backslash character in a string, you need to escape it by typing two consecutive backslashes (\\\\). For example, \"C:\\\\path\\\\to\\\\file\"."
   ]
  },
  {
   "cell_type": "code",
   "execution_count": null,
   "id": "07fed5e2",
   "metadata": {},
   "outputs": [],
   "source": [
    "4. The string \"Howl's Moving Castle\" is a correct value. Why isn't the single quote character in the word Howl's not escaped a problem?\n",
    "-------------------------------------------------------\n",
    "Ans: In Python, you can use either single quotes (') or double quotes (\") to define strings. Since the string \"Howl's Moving Castle\" is enclosed in double quotes, the single quote character within it does not need to be escaped."
   ]
  },
  {
   "cell_type": "code",
   "execution_count": null,
   "id": "59fbb273",
   "metadata": {},
   "outputs": [],
   "source": [
    "5. How do you write a string of newlines if you don't want to use the n character?\n",
    "-------------------------------------------------------\n",
    "Ans: You can use triple quotes (\"\"\") to create a multiline string. For example:\n",
    "multiline_string = \"\"\"line 1\n",
    "line 2\n",
    "line 3\"\"\"\n"
   ]
  },
  {
   "cell_type": "code",
   "execution_count": null,
   "id": "82f46c89",
   "metadata": {},
   "outputs": [],
   "source": [
    "6. How do you write a string of newlines if you don't want to use the n character?\n",
    "-------------------------------------------------------\n",
    "Ans: 'Hello, world!'[1]: Returns the character at index 1, which is 'e'.\n",
    "'Hello, world!'[0:5]: Returns the substring from index 0 to 4 (excluding 5), which is 'Hello'.\n",
    "'Hello, world!'[:5]: Returns the substring from the beginning up to index 4 (excluding 5), which is 'Hello'.\n",
    "'Hello, world!'[3:]: Returns the substring from index 3 to the end of the string, which is 'lo, world!'."
   ]
  },
  {
   "cell_type": "code",
   "execution_count": null,
   "id": "4551eb13",
   "metadata": {},
   "outputs": [],
   "source": [
    "7. What are the values of the following expressions?\n",
    "'Hello'.upper()\n",
    "'Hello'.upper().isupper()\n",
    "'Hello'.upper().lower()\n",
    "-------------------------------------------------------\n",
    "Ans: 'Hello'.upper(): Converts the string to uppercase, resulting in 'HELLO'.\n",
    "'Hello'.upper().isupper(): Checks if all characters in the string are uppercase, which is True.\n",
    "'Hello'.upper().lower(): Converts the uppercase string back to lowercase, resulting in 'hello'.\n"
   ]
  },
  {
   "cell_type": "code",
   "execution_count": null,
   "id": "159e995f",
   "metadata": {},
   "outputs": [],
   "source": [
    "8. What are the values of the following expressions?\n",
    "'Remember, remember, the fifth of July.'.split()\n",
    "'-'.join('There can only one.'.split())\n",
    "-------------------------------------------------------\n",
    "Ans: 'Remember, remember, the fifth of July.'.split(): Splits the string into a list of words, separated by whitespace.\n",
    "'-'.join('There can only one.'.split()): Splits the string into words, then joins them back together with hyphens (-) between them.\n"
   ]
  },
  {
   "cell_type": "code",
   "execution_count": null,
   "id": "f12b2006",
   "metadata": {},
   "outputs": [],
   "source": [
    "9. What are the methods for right-justifying, left-justifying, and centering a string?\n",
    "-------------------------------------------------------\n",
    "Ans: Right-justifying: rjust()\n",
    "Left-justifying: ljust()\n",
    "Centering: center()"
   ]
  },
  {
   "cell_type": "code",
   "execution_count": null,
   "id": "47b1d5a3",
   "metadata": {},
   "outputs": [],
   "source": [
    "10. What is the best way to remove whitespace characters from the start or end?\n",
    "-------------------------------------------------------\n",
    "Ans: You can use the strip() method to remove whitespace characters from both the start and end of a string. If you only want to remove whitespace from the start, you can use lstrip(). Similarly, for removing whitespace from the end, you can use rstrip()."
   ]
  }
 ],
 "metadata": {
  "kernelspec": {
   "display_name": "Python 3 (ipykernel)",
   "language": "python",
   "name": "python3"
  },
  "language_info": {
   "codemirror_mode": {
    "name": "ipython",
    "version": 3
   },
   "file_extension": ".py",
   "mimetype": "text/x-python",
   "name": "python",
   "nbconvert_exporter": "python",
   "pygments_lexer": "ipython3",
   "version": "3.11.4"
  }
 },
 "nbformat": 4,
 "nbformat_minor": 5
}
