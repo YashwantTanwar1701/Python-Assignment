{
 "cells": [
  {
   "cell_type": "code",
   "execution_count": 7,
   "id": "4b250595",
   "metadata": {},
   "outputs": [
    {
     "name": "stdout",
     "output_type": "stream",
     "text": [
      "KM = 2\n",
      "2KM = 1.243 miles\n"
     ]
    }
   ],
   "source": [
    "#1. Write a Python program to convert kilometers to miles?\n",
    "\n",
    "a = float(input(\"KM = \"))\n",
    "b = a * (0.62137119)\n",
    "if type(a) == int or type(a) == float:\n",
    "    print(f\"{a}KM = {round(b,3)} miles\")\n",
    "else:\n",
    "    print(f\"Please enter a valid value\")"
   ]
  },
  {
   "cell_type": "code",
   "execution_count": 13,
   "id": "aee610a3",
   "metadata": {},
   "outputs": [
    {
     "name": "stdout",
     "output_type": "stream",
     "text": [
      "Celsius = 12.2\n",
      "12.2°C = 53.96°F \n"
     ]
    }
   ],
   "source": [
    "#2. Write a Python program to convert Celsius to Fahrenheit?\n",
    "\n",
    "c =  float(input(\"Celsius = \"))\n",
    "d = (c * 9/5)+32\n",
    "if type(c) == int or type(c) == float:\n",
    "    print(f\"{c}°C = {d}°F \")\n",
    "else: \n",
    "    print(f\"Please enter a valid value\")"
   ]
  },
  {
   "cell_type": "code",
   "execution_count": 1,
   "id": "8e20a72d",
   "metadata": {},
   "outputs": [
    {
     "name": "stdout",
     "output_type": "stream",
     "text": [
      "Enter year: 13\n",
      "Enter month: 13\n",
      "please enter a valid date\n"
     ]
    }
   ],
   "source": [
    "#3. Write a Python program to display calendar?\n",
    "\n",
    "import calendar\n",
    "\n",
    "yy = int(input(\"Enter year: \"))\n",
    "mm = int(input(\"Enter month: \"))\n",
    "\n",
    "# display the calendar\n",
    "if type(yy) == int and type(mm) == int and mm <= 12:\n",
    "    print(calendar.month(yy, mm))\n",
    "else: \n",
    "    print(\"please enter a valid date\")"
   ]
  },
  {
   "cell_type": "code",
   "execution_count": 10,
   "id": "f1b49401",
   "metadata": {},
   "outputs": [
    {
     "name": "stdout",
     "output_type": "stream",
     "text": [
      "The solution are (-3+0j) and (-2+0j)\n"
     ]
    }
   ],
   "source": [
    "#4. Write a Python program to solve quadratic equation?\n",
    "\n",
    "# ax**2 + bx + c = 0 (equation)\n",
    "\n",
    "import cmath\n",
    "\n",
    "a = 1\n",
    "b = 5\n",
    "c = 6\n",
    "\n",
    "# calculate the discriminant\n",
    "d = (b**2) - (4*a*c)\n",
    "\n",
    "# find two solutions\n",
    "sol1 = (-b-cmath.sqrt(d))/(2*a)\n",
    "sol2 = (-b+cmath.sqrt(d))/(2*a)\n",
    "\n",
    "print('The solution are {0} and {1}'.format(sol1,sol2))"
   ]
  },
  {
   "cell_type": "code",
   "execution_count": 11,
   "id": "20105101",
   "metadata": {},
   "outputs": [
    {
     "name": "stdout",
     "output_type": "stream",
     "text": [
      "Before swapping: \n",
      "Value of x : 5 and y : 7\n",
      "After swapping: \n",
      "Value of x : 7 and y : 5\n"
     ]
    }
   ],
   "source": [
    "#5. Write a Python program to swap two variables without temp variable?\n",
    "x = 5\n",
    "y = 7\n",
    " \n",
    "print (\"Before swapping: \")\n",
    "print(f\"Value of x : {x} and y : {y}\")\n",
    " \n",
    "\n",
    "x, y = y, x\n",
    " \n",
    "print (\"After swapping: \")\n",
    "print(f\"Value of x : {x} and y : {y}\")"
   ]
  }
 ],
 "metadata": {
  "kernelspec": {
   "display_name": "Python 3 (ipykernel)",
   "language": "python",
   "name": "python3"
  },
  "language_info": {
   "codemirror_mode": {
    "name": "ipython",
    "version": 3
   },
   "file_extension": ".py",
   "mimetype": "text/x-python",
   "name": "python",
   "nbconvert_exporter": "python",
   "pygments_lexer": "ipython3",
   "version": "3.9.13"
  }
 },
 "nbformat": 4,
 "nbformat_minor": 5
}
