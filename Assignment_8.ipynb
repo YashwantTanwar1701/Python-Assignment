{
 "cells": [
  {
   "cell_type": "code",
   "execution_count": null,
   "id": "b6705514",
   "metadata": {},
   "outputs": [],
   "source": [
    "1. Is the Python Standard Library included with PyInputPlus?\n",
    "------------------------------------------------------------------\n",
    "Ans: No, the Python Standard Library is not included with PyInputPlus. PyInputPlus is a separate third-party library used for input validation and handling."
   ]
  },
  {
   "cell_type": "code",
   "execution_count": null,
   "id": "9c01fee6",
   "metadata": {},
   "outputs": [],
   "source": [
    "2. Why is PyInputPlus commonly imported with import pyinputplus as pypi?\n",
    "------------------------------------------------------------------\n",
    "Ans:  PyInputPlus is commonly imported with import pyinputplus as pypi to provide a shorter alias (pypi) for the module name, making it easier to type and use in code."
   ]
  },
  {
   "cell_type": "code",
   "execution_count": null,
   "id": "bd0de1ff",
   "metadata": {},
   "outputs": [],
   "source": [
    "3. How do you distinguish between inputInt() and inputFloat()?\n",
    "------------------------------------------------------------------\n",
    "Ans: \"inputInt()\": Accepts an integer input from the user. If the input is not an integer, it prompts the user to enter a valid integer.\n",
    "    'inputFloat()': Accepts a floating-point number input from the user. If the input is not a valid floating-point number, it prompts the user to enter a valid number."
   ]
  },
  {
   "cell_type": "code",
   "execution_count": null,
   "id": "e13283ca",
   "metadata": {},
   "outputs": [],
   "source": [
    "4. Using PyInputPlus, how do you ensure that the user enters a whole number between 0 and 99?\n",
    "------------------------------------------------------------------\n",
    "Ans: import pyinputplus as pypi\n",
    "num = pypi.inputInt(prompt='Enter a number: ', min=0, max=99)\n"
   ]
  },
  {
   "cell_type": "code",
   "execution_count": null,
   "id": "d0770ba2",
   "metadata": {},
   "outputs": [],
   "source": [
    "5. What is transferred to the keyword arguments allowRegexes and blockRegexes?\n",
    "------------------------------------------------------------------\n",
    "Ans: The allowRegexes and blockRegexes keyword arguments in PyInputPlus allow the user to specify regular expressions to allow or block certain patterns of input."
   ]
  },
  {
   "cell_type": "code",
   "execution_count": null,
   "id": "3c320921",
   "metadata": {},
   "outputs": [],
   "source": [
    "6. If a blank input is entered three times, what does inputStr(limit=3) do?\n",
    "------------------------------------------------------------------\n",
    "Ans: If blank input is entered three times when using inputStr(limit=3), PyInputPlus raises a ValidationException after three attempts without receiving valid input."
   ]
  },
  {
   "cell_type": "code",
   "execution_count": null,
   "id": "ecb2ba54",
   "metadata": {},
   "outputs": [],
   "source": [
    "7. If blank input is entered three times, what does inputStr(limit=3, default='hello') do?\n",
    "------------------------------------------------------------------\n",
    "Ans:  If blank input is entered three times when using inputStr(limit=3, default='hello'), PyInputPlus returns the default value 'hello' after three attempts without receiving valid input."
   ]
  }
 ],
 "metadata": {
  "kernelspec": {
   "display_name": "Python 3 (ipykernel)",
   "language": "python",
   "name": "python3"
  },
  "language_info": {
   "codemirror_mode": {
    "name": "ipython",
    "version": 3
   },
   "file_extension": ".py",
   "mimetype": "text/x-python",
   "name": "python",
   "nbconvert_exporter": "python",
   "pygments_lexer": "ipython3",
   "version": "3.11.4"
  }
 },
 "nbformat": 4,
 "nbformat_minor": 5
}
