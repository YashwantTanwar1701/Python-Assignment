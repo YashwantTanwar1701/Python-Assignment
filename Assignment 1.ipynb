{
 "cells": [
  {
   "cell_type": "code",
   "execution_count": null,
   "id": "3ef23ee2",
   "metadata": {},
   "outputs": [],
   "source": [
    "1. In the below elements which of them are values or an expression? eg:- values can be\n",
    "integer or string and expressions will be mathematical operators.\n",
    "*\n",
    "'hello'\n",
    "-87.8\n",
    "-\n",
    "/\n",
    "+\n",
    "6\n",
    "-----------------------------------------------------------------------------\n",
    "\n",
    "ANS: \n",
    "    Values: 'hello', -87.8, 6\n",
    "    Expression: *,-, /, +"
   ]
  },
  {
   "cell_type": "code",
   "execution_count": null,
   "id": "f11e32c2",
   "metadata": {},
   "outputs": [],
   "source": [
    "2. What is the difference between string and variable?\n",
    "-----------------------------------------------------------------------------\n",
    "ANS: \n",
    "    Variables are symbols that you can use to store data in a program. \n",
    "    You can think of them as an empty box that you fill with some data or value\n",
    "    \n",
    "    Strings are data, so we can use them to fill up a variable.\n"
   ]
  },
  {
   "cell_type": "code",
   "execution_count": null,
   "id": "e35a3ec9",
   "metadata": {},
   "outputs": [],
   "source": [
    "3. Describe three different data types.\n",
    "-----------------------------------------------------------------------------    \n",
    "ANS:\n",
    "    Numeric data types: int, float, complex\n",
    "        int - holds signed integers of non-limited length.\n",
    "        float - holds floating precision numbers and it’s accurate up to 15 decimal places.\n",
    "        complex - holds complex numbers."
   ]
  },
  {
   "cell_type": "code",
   "execution_count": null,
   "id": "99455401",
   "metadata": {},
   "outputs": [],
   "source": [
    "4. What is an expression made up of? What do all expressions do?\n",
    "-----------------------------------------------------------------------------\n",
    "ANS:\n",
    "    An expression is a combination of operators and operands that is interpreted to produce some other value.\n",
    "    \n",
    "    Expressions can be used for task such as addition, substraction, division, multiplication,Remainder, Quotient, etc."
   ]
  },
  {
   "cell_type": "code",
   "execution_count": null,
   "id": "b3be6a02",
   "metadata": {},
   "outputs": [],
   "source": [
    "5. This assignment statements, like spam = 10. What is the difference between an\n",
    "expression and a statement?\n",
    "-----------------------------------------------------------------------------\n",
    "ANS:\n",
    "    Statements represent an action or command. \n",
    "    Expression is a combination of variables, operations and values that yields a result value"
   ]
  },
  {
   "cell_type": "code",
   "execution_count": null,
   "id": "9f7d2e30",
   "metadata": {},
   "outputs": [],
   "source": [
    "6. After running the following code, what does the variable bacon contain?\n",
    "bacon = 22\n",
    "bacon + 1\n",
    "-----------------------------------------------------------------------------\n",
    "ANS: 23"
   ]
  },
  {
   "cell_type": "code",
   "execution_count": null,
   "id": "50ce4ab6",
   "metadata": {},
   "outputs": [],
   "source": [
    "7. What should the values of the following two terms be?\n",
    "'spam'+'spamspam'\n",
    "'spam' * 3\n",
    "-----------------------------------------------------------------------------\n",
    "ANS: \n",
    "    1. 'spamspamspam'\n",
    "    2. 'spamspamspam'"
   ]
  },
  {
   "cell_type": "code",
   "execution_count": null,
   "id": "5ac94ec3",
   "metadata": {},
   "outputs": [],
   "source": [
    "8. Why is eggs a valid variable name while 100 is invalid?\n",
    "-----------------------------------------------------------------------------\n",
    "ANS: We cannot store data in an integer as a variable. "
   ]
  },
  {
   "cell_type": "code",
   "execution_count": null,
   "id": "ea3c9087",
   "metadata": {},
   "outputs": [],
   "source": [
    "9. What three functions can be used to get the integer, floating-point number, or string\n",
    "version of a value?\n",
    "-----------------------------------------------------------------------------\n",
    "ANS: int() , float() and str()"
   ]
  },
  {
   "cell_type": "code",
   "execution_count": null,
   "id": "f6647ad8",
   "metadata": {},
   "outputs": [],
   "source": [
    "10. Why does this expression cause an error? How can you fix it?\n",
    "'I have eaten' + 99 + 'burritos.'\n",
    "-----------------------------------------------------------------------------\n",
    "ANS: \n",
    "    The following code can only concatenate str (not \"int\") to str. For this to work, we need to convert int value (99) to string using str() function.\n",
    "    Therefore, the correct code would be \n",
    "    'I have eaten' + str(99) + 'burritos.'"
   ]
  }
 ],
 "metadata": {
  "kernelspec": {
   "display_name": "Python 3 (ipykernel)",
   "language": "python",
   "name": "python3"
  },
  "language_info": {
   "codemirror_mode": {
    "name": "ipython",
    "version": 3
   },
   "file_extension": ".py",
   "mimetype": "text/x-python",
   "name": "python",
   "nbconvert_exporter": "python",
   "pygments_lexer": "ipython3",
   "version": "3.9.13"
  }
 },
 "nbformat": 4,
 "nbformat_minor": 5
}
