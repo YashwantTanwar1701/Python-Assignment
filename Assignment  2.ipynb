{
 "cells": [
  {
   "cell_type": "code",
   "execution_count": null,
   "id": "6b573de0",
   "metadata": {},
   "outputs": [],
   "source": [
    "1.What are the two values of the Boolean data type? How do you write them\n",
    "-----------------------------------------------------------------------------\n",
    "ANS: \n",
    "    1. True - It can be written as 1\n",
    "    2. False - It can be written as 0 \n"
   ]
  },
  {
   "cell_type": "code",
   "execution_count": null,
   "id": "303be76b",
   "metadata": {},
   "outputs": [],
   "source": [
    "2. What are the three different types of Boolean operators?\n",
    "-----------------------------------------------------------------------------\n",
    "ANS: \n",
    "    AND, OR, and NOT.\n",
    "    AND - must have at least one False expression evaluate to False\n",
    "    OR - must have both expressions evaluate to False,\n",
    "    NOT - must have its inner expression be True for the new expression to evaluate to False."
   ]
  },
  {
   "cell_type": "raw",
   "id": "278206e5",
   "metadata": {},
   "source": [
    "3. Make a list of each Boolean operator's truth tables (i.e. every possible combination of Boolean\n",
    "values for the operator and what it evaluate ).\n",
    "-----------------------------------------------------------------------------\n",
    "ANS: \n",
    "    If: A and B Then C\n",
    "        A | B | C\n",
    "        1 | 1 | 1\n",
    "        0 | 1 | 0\n",
    "        1 | 0 | 0\n",
    "        0 | 0 | 0\n",
    "        \n",
    "    IF: A OR B Then C\n",
    "        1 | 1 | 1\n",
    "        0 | 1 | 1\n",
    "        1 | 0 | 1\n",
    "        0 | 0 | 0\n",
    "        \n",
    "     IF: A Not B Then C\n",
    "        1 | 1 | 0\n",
    "        0 | 1 | 1\n",
    "        1 | 0 | 1\n",
    "        0 | 0 | 0"
   ]
  },
  {
   "cell_type": "code",
   "execution_count": null,
   "id": "4bb8d0f0",
   "metadata": {},
   "outputs": [],
   "source": [
    "4. What are the values of the following expressions?\n",
    "(5 > 4) and (3 == 5)\n",
    "not (5 > 4)\n",
    "(5 > 4) or (3 == 5)\n",
    "not ((5 > 4) or (3 == 5))\n",
    "(True and True) and (True == False)\n",
    "(not False) or (not True)\n",
    "-----------------------------------------------------------------------------\n",
    "ANS:\n",
    "    1. (5 > 4) and (3 == 5)\n",
    "        False  ---- (5>4) is true but (3==5) doesn't satify the condition of being equal to 5\n",
    "    \n",
    "    2. False ---- not (5 > 4)   --- This condition basically means the oppostite of what we have written in the brackets. Which is 5 is smaller then 4.\n",
    "    \n",
    "    3. False --- not((5 > 4) or (3 == 5))  --- In the following condtion, it doesn't satisfy neither of the condition which is 5 smaller then 4 and 3  is equal to 5 \n",
    "    \n",
    "    4. False ---- (True and True) and (True == False) ---- Both the condtion should be satisfies when we are using AND operator, the 2nd one desn't satisfy\n",
    "    \n",
    "    5. True --- (not False) or (not True) one of the condition is true (not(False)) therefore we are getting the output as True "
   ]
  },
  {
   "cell_type": "code",
   "execution_count": null,
   "id": "6cc91c28",
   "metadata": {},
   "outputs": [],
   "source": [
    "5. What are the six comparison operators?\n",
    "-----------------------------------------------------------------------------\n",
    "ANS:\n",
    "    < - Less then (it checks if the left value is lesser than that on the right.)\n",
    "    > - Greater then (checks whether the left value is greater than the one on the right.)\n",
    "    <= - Lesser then equal to (returns True only if the value on the left is either less than or equal to that on the right of the operator.)\n",
    "    >= - Greater then equal to (returns True only if the value on the left is greater than or equal to that on the right.)\n",
    "    == - Equal to (returns True if the values on either side of the operator are equal.)\n",
    "    != - Not equal to (returns True if the values on either side of the operator are unequal.)\n",
    "    "
   ]
  },
  {
   "cell_type": "code",
   "execution_count": null,
   "id": "24381a4f",
   "metadata": {},
   "outputs": [],
   "source": [
    "6. How do you tell the difference between the equal to and assignment operators?Describe a\n",
    "condition and when you would use one.\n",
    "-----------------------------------------------------------------------------\n",
    "ANS: The equal (=) to operator is use to assign a value to a variable. Where as the (==) operator is used to validate\n",
    "    a condtion of both the variable being true. for example\n",
    "    \n",
    "a = 24\n",
    "b = 24\n",
    "\n",
    "if a == b:\n",
    "    print(f\"The value of a and b is {a}\")\n",
    "else: \n",
    "    print (f\"a is not equal to b\")\n",
    "        "
   ]
  },
  {
   "cell_type": "raw",
   "id": "8fb63253",
   "metadata": {},
   "source": [
    "7. Identify the three blocks in this code:\n",
    "spam = 0\n",
    "if spam == 10:\n",
    "    print(\"eggs\")\n",
    "if spam > 5:\n",
    "    print(\"bacon\")\n",
    "else:\n",
    "    print(\"ham\")\n",
    "    print(\"spam\")\n",
    "    print(\"spam\")\n",
    "-----------------------------------------------------------------------------\n",
    "ANS:\n",
    "    Output =  \n",
    "            ham\n",
    "            spam\n",
    "            spam\n",
    "Because neither of the if condition is getting satisfied and therefore the else condition is getting execcuted. "
   ]
  },
  {
   "cell_type": "code",
   "execution_count": null,
   "id": "7bd03f92",
   "metadata": {},
   "outputs": [],
   "source": [
    "8. Write code that prints Hello if 1 is stored in spam, prints Howdy if 2 is stored in spam, and prints\n",
    "Greetings! if anything else is stored in spam.\n",
    "-----------------------------------------------------------------------------\n",
    "ANS:\n",
    "spam = int(input(\"Enter any number \"))\n",
    "if spam == 1:\n",
    "    print(f\"Hello\")\n",
    "if spam == 2:\n",
    "    print(f\"Howdy\")\n",
    "else:\n",
    "    print(f\"Greetings!\")\n"
   ]
  },
  {
   "cell_type": "code",
   "execution_count": null,
   "id": "b109a929",
   "metadata": {},
   "outputs": [],
   "source": [
    "9.If your programme is stuck in an endless loop, what keys you’ll press?\n",
    "-----------------------------------------------------------------------------\n",
    "ANS: CTRL + C (where C stands for Cancel.)"
   ]
  },
  {
   "cell_type": "code",
   "execution_count": null,
   "id": "e896995f",
   "metadata": {},
   "outputs": [],
   "source": [
    "10. How can you tell the difference between break and continue?\n",
    "-----------------------------------------------------------------------------\n",
    "ANS: break - keyword is used to stop the execution once the result is found\n",
    "    continue - keyword is used to continue even after the result is found "
   ]
  },
  {
   "cell_type": "code",
   "execution_count": null,
   "id": "b356cb55",
   "metadata": {},
   "outputs": [],
   "source": [
    "11. In a for loop, what is the difference between range(10), range(0, 10), and range(0, 10, 1)?\n",
    "-----------------------------------------------------------------------------\n",
    "ANS: \n",
    "    In Python programming, the range() function returns the sequence of the given number between the given range.\n",
    "    \n",
    "    in range(10) we are specifing that the program should start from 1st and index and end at 10th index.\n",
    "    Whereas in range(0,10) we are explicitly making the program to start from 1st index and we can change range as per our need\n",
    "    \n",
    "    In range(0,10,1), we can specify the start and the last index and also the steps which needs to be skiped. 1 specifies the \n",
    "    number of skips in index to take while executing.\n",
    "    "
   ]
  },
  {
   "cell_type": "code",
   "execution_count": null,
   "id": "4c3adf0d",
   "metadata": {},
   "outputs": [],
   "source": [
    "12. Write a short program that prints the numbers 1 to 10 using a for loop. Then write an equivalent\n",
    "program that prints the numbers 1 to 10 using a while loop.\n",
    "-----------------------------------------------------------------------------\n",
    "ANS:\n",
    "    \n",
    "    for loop example:\n",
    "for numbers in range (1,11): \n",
    "    print(numbers)\n",
    "    continue\n",
    "    \n",
    "---------------------------------------\n",
    " while loop example   \n",
    "i = 1\n",
    "while i <= 10:\n",
    "  print(i)\n",
    "  i += 1"
   ]
  },
  {
   "cell_type": "code",
   "execution_count": null,
   "id": "28e2e8b8",
   "metadata": {},
   "outputs": [],
   "source": [
    "13. If you had a function named bacon() inside a module named spam, how would you call it after\n",
    "importing spam?\n",
    "-----------------------------------------------------------------------------\n",
    "ANS: spam.bacon()"
   ]
  }
 ],
 "metadata": {
  "kernelspec": {
   "display_name": "Python 3 (ipykernel)",
   "language": "python",
   "name": "python3"
  },
  "language_info": {
   "codemirror_mode": {
    "name": "ipython",
    "version": 3
   },
   "file_extension": ".py",
   "mimetype": "text/x-python",
   "name": "python",
   "nbconvert_exporter": "python",
   "pygments_lexer": "ipython3",
   "version": "3.9.13"
  }
 },
 "nbformat": 4,
 "nbformat_minor": 5
}
